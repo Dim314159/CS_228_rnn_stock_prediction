{
 "cells": [
  {
   "cell_type": "code",
   "execution_count": 1,
   "metadata": {},
   "outputs": [],
   "source": [
    "import pandas as pd\n",
    "import numpy as np\n",
    "import random\n",
    "\n",
    "import matplotlib.pyplot as plt\n",
    "\n",
    "from sklearn.preprocessing import StandardScaler\n",
    "\n",
    "from IPython.display import clear_output"
   ]
  },
  {
   "cell_type": "markdown",
   "metadata": {},
   "source": [
    "# Preparing data\n",
    "combine data from different years for each currency-pair into train and test datasets."
   ]
  },
  {
   "cell_type": "code",
   "execution_count": null,
   "metadata": {},
   "outputs": [],
   "source": [
    "# df1 = pd.read_csv('EURGBP_2017.csv', header=None)\n",
    "# df2 = pd.read_csv('EURGBP_2018.csv', header=None)\n",
    "# df3 = pd.read_csv('EURGBP_2019.csv', header=None)\n",
    "# df4 = pd.read_csv('EURGBP_2020.csv', header=None)\n",
    "# df = pd.concat([df1, df2, df3])\n",
    "# e_g_train = df[0].str.split(';', expand=True).loc[:,:1]\n",
    "# e_g_test = df4[0].str.split(';', expand=True).loc[:,:1]\n",
    "\n",
    "# df1 = pd.read_csv('EURJPY_2017.csv', header=None)\n",
    "# df2 = pd.read_csv('EURJPY_2018.csv', header=None)\n",
    "# df3 = pd.read_csv('EURJPY_2019.csv', header=None)\n",
    "# df4 = pd.read_csv('EURJPY_2020.csv', header=None)\n",
    "# df = pd.concat([df1, df2, df3])\n",
    "# e_j_train = df[0].str.split(';', expand=True).loc[:,:1]\n",
    "# e_j_test = df4[0].str.split(';', expand=True).loc[:,:1]\n",
    "\n",
    "# df1 = pd.read_csv('EURUSD_2017.csv', header=None)\n",
    "# df2 = pd.read_csv('EURUSD_2018.csv', header=None)\n",
    "# df3 = pd.read_csv('EURUSD_2019.csv', header=None)\n",
    "# df4 = pd.read_csv('EURUSD_2020.csv', header=None)\n",
    "# df = pd.concat([df1, df2, df3])\n",
    "# e_u_train = df[0].str.split(';', expand=True).loc[:,:1]\n",
    "# e_u_test = df4[0].str.split(';', expand=True).loc[:,:1]\n",
    "\n",
    "# df1 = pd.read_csv('GBPJPY_2017.csv', header=None)\n",
    "# df2 = pd.read_csv('GBPJPY_2018.csv', header=None)\n",
    "# df3 = pd.read_csv('GBPJPY_2019.csv', header=None)\n",
    "# df4 = pd.read_csv('GBPJPY_2020.csv', header=None)\n",
    "# df = pd.concat([df1, df2, df3])\n",
    "# g_j_train = df[0].str.split(';', expand=True).loc[:,:1]\n",
    "# g_j_test = df4[0].str.split(';', expand=True).loc[:,:1]\n",
    "\n",
    "# df1 = pd.read_csv('GBPUSD_2017.csv', header=None)\n",
    "# df2 = pd.read_csv('GBPUSD_2018.csv', header=None)\n",
    "# df3 = pd.read_csv('GBPUSD_2019.csv', header=None)\n",
    "# df4 = pd.read_csv('GBPUSD_2020.csv', header=None)\n",
    "# df = pd.concat([df1, df2, df3])\n",
    "# g_u_train = df[0].str.split(';', expand=True).loc[:,:1]\n",
    "# g_u_test = df4[0].str.split(';', expand=True).loc[:,:1]\n",
    "\n",
    "# df1 = pd.read_csv('USDJPY_2017.csv', header=None)\n",
    "# df2 = pd.read_csv('USDJPY_2018.csv', header=None)\n",
    "# df3 = pd.read_csv('USDJPY_2019.csv', header=None)\n",
    "# df4 = pd.read_csv('USDJPY_2020.csv', header=None)\n",
    "# df = pd.concat([df1, df2, df3])\n",
    "# u_j_train = df[0].str.split(';', expand=True).loc[:,:1]\n",
    "# u_j_test = df4[0].str.split(';', expand=True).loc[:,:1]"
   ]
  },
  {
   "cell_type": "markdown",
   "metadata": {},
   "source": [
    "merge data in one data-set matching by date and time, and save it for future use"
   ]
  },
  {
   "cell_type": "code",
   "execution_count": 2,
   "metadata": {},
   "outputs": [],
   "source": [
    "# from functools import reduce\n",
    "# data_frames = [e_u_train, e_g_train, e_j_train, g_j_train, g_u_train, u_j_train]\n",
    "# data_merged = reduce(lambda  left,right: pd.merge(left,right,on=[0], how='inner'), data_frames)\n",
    "# data_frames = [e_u_test, e_g_test, e_j_test, g_j_test, g_u_test, u_j_test]\n",
    "# test_merged = reduce(lambda  left,right: pd.merge(left,right,on=[0], how='inner'), data_frames)\n",
    "\n",
    "# data_merged.columns = ['time', 'e_u', 'e_g', 'e_j', 'g_j', 'g_u', 'u_j']\n",
    "# test_merged.columns = ['time', 'e_u', 'e_g', 'e_j', 'g_j', 'g_u', 'u_j']\n",
    "\n",
    "# data_merged.to_csv('data.csv', index=False)\n",
    "# test_merged.to_csv('test.csv', index=False)"
   ]
  },
  {
   "cell_type": "markdown",
   "metadata": {},
   "source": [
    "load merged data"
   ]
  },
  {
   "cell_type": "code",
   "execution_count": 3,
   "metadata": {},
   "outputs": [],
   "source": [
    "# pd_all = pd.read_csv('data.csv')\n",
    "# pd_2020 = pd.read_csv('test.csv')"
   ]
  },
  {
   "cell_type": "markdown",
   "metadata": {},
   "source": [
    "split data year by year and save it"
   ]
  },
  {
   "cell_type": "code",
   "execution_count": 4,
   "metadata": {},
   "outputs": [],
   "source": [
    "# def correct_columns(data):\n",
    "#     data[['date', 'time']] = data.time.str.split(expand=True)\n",
    "#     columns = data.columns.tolist()\n",
    "#     columns = columns[-1:] + columns[:-1]\n",
    "#     return data[columns]"
   ]
  },
  {
   "cell_type": "code",
   "execution_count": 5,
   "metadata": {},
   "outputs": [],
   "source": [
    "# pd_all = correct_columns(pd_all)\n",
    "# pd_2020 = correct_columns(pd_2020)\n",
    "# pd_2017 = pd_all[pd_all['date'].str[:4] == '2017']\n",
    "# pd_2018 = pd_all[pd_all['date'].str[:4] == '2018']\n",
    "# pd_2019 = pd_all[pd_all['date'].str[:4] == '2019']"
   ]
  },
  {
   "cell_type": "code",
   "execution_count": 6,
   "metadata": {},
   "outputs": [],
   "source": [
    "# pd_2017.to_csv('2017.csv', index=False)\n",
    "# pd_2018.to_csv('2018.csv', index=False)\n",
    "# pd_2019.to_csv('2019.csv', index=False)\n",
    "# pd_2020.to_csv('2020.csv', index=False)"
   ]
  },
  {
   "cell_type": "markdown",
   "metadata": {},
   "source": [
    "load year by year data"
   ]
  },
  {
   "cell_type": "code",
   "execution_count": 7,
   "metadata": {},
   "outputs": [],
   "source": [
    "pd_2017 = pd.read_csv('2017.csv')\n",
    "pd_2018 = pd.read_csv('2018.csv')\n",
    "pd_2019 = pd.read_csv('2019.csv')\n",
    "pd_2020 = pd.read_csv('2020.csv')"
   ]
  },
  {
   "cell_type": "code",
   "execution_count": 8,
   "metadata": {},
   "outputs": [
    {
     "data": {
      "text/html": [
       "<div>\n",
       "<style scoped>\n",
       "    .dataframe tbody tr th:only-of-type {\n",
       "        vertical-align: middle;\n",
       "    }\n",
       "\n",
       "    .dataframe tbody tr th {\n",
       "        vertical-align: top;\n",
       "    }\n",
       "\n",
       "    .dataframe thead th {\n",
       "        text-align: right;\n",
       "    }\n",
       "</style>\n",
       "<table border=\"1\" class=\"dataframe\">\n",
       "  <thead>\n",
       "    <tr style=\"text-align: right;\">\n",
       "      <th></th>\n",
       "      <th>date</th>\n",
       "      <th>time</th>\n",
       "      <th>e_u</th>\n",
       "      <th>e_g</th>\n",
       "      <th>e_j</th>\n",
       "      <th>g_j</th>\n",
       "      <th>g_u</th>\n",
       "      <th>u_j</th>\n",
       "    </tr>\n",
       "  </thead>\n",
       "  <tbody>\n",
       "    <tr>\n",
       "      <th>0</th>\n",
       "      <td>20170102</td>\n",
       "      <td>20100</td>\n",
       "      <td>1.05209</td>\n",
       "      <td>0.85184</td>\n",
       "      <td>122.966</td>\n",
       "      <td>144.240</td>\n",
       "      <td>1.23399</td>\n",
       "      <td>116.875</td>\n",
       "    </tr>\n",
       "    <tr>\n",
       "      <th>1</th>\n",
       "      <td>20170102</td>\n",
       "      <td>20200</td>\n",
       "      <td>1.05177</td>\n",
       "      <td>0.85183</td>\n",
       "      <td>122.980</td>\n",
       "      <td>144.290</td>\n",
       "      <td>1.23423</td>\n",
       "      <td>116.901</td>\n",
       "    </tr>\n",
       "    <tr>\n",
       "      <th>2</th>\n",
       "      <td>20170102</td>\n",
       "      <td>20300</td>\n",
       "      <td>1.05188</td>\n",
       "      <td>0.85181</td>\n",
       "      <td>122.986</td>\n",
       "      <td>144.287</td>\n",
       "      <td>1.23413</td>\n",
       "      <td>116.901</td>\n",
       "    </tr>\n",
       "    <tr>\n",
       "      <th>3</th>\n",
       "      <td>20170102</td>\n",
       "      <td>20400</td>\n",
       "      <td>1.05196</td>\n",
       "      <td>0.85200</td>\n",
       "      <td>123.000</td>\n",
       "      <td>144.287</td>\n",
       "      <td>1.23416</td>\n",
       "      <td>116.900</td>\n",
       "    </tr>\n",
       "    <tr>\n",
       "      <th>4</th>\n",
       "      <td>20170102</td>\n",
       "      <td>20600</td>\n",
       "      <td>1.05196</td>\n",
       "      <td>0.85197</td>\n",
       "      <td>123.001</td>\n",
       "      <td>144.287</td>\n",
       "      <td>1.23420</td>\n",
       "      <td>116.893</td>\n",
       "    </tr>\n",
       "    <tr>\n",
       "      <th>...</th>\n",
       "      <td>...</td>\n",
       "      <td>...</td>\n",
       "      <td>...</td>\n",
       "      <td>...</td>\n",
       "      <td>...</td>\n",
       "      <td>...</td>\n",
       "      <td>...</td>\n",
       "      <td>...</td>\n",
       "    </tr>\n",
       "    <tr>\n",
       "      <th>366595</th>\n",
       "      <td>20171229</td>\n",
       "      <td>165100</td>\n",
       "      <td>1.19933</td>\n",
       "      <td>0.88801</td>\n",
       "      <td>135.148</td>\n",
       "      <td>152.110</td>\n",
       "      <td>1.35008</td>\n",
       "      <td>112.680</td>\n",
       "    </tr>\n",
       "    <tr>\n",
       "      <th>366596</th>\n",
       "      <td>20171229</td>\n",
       "      <td>165200</td>\n",
       "      <td>1.19962</td>\n",
       "      <td>0.88821</td>\n",
       "      <td>135.163</td>\n",
       "      <td>152.095</td>\n",
       "      <td>1.35015</td>\n",
       "      <td>112.668</td>\n",
       "    </tr>\n",
       "    <tr>\n",
       "      <th>366597</th>\n",
       "      <td>20171229</td>\n",
       "      <td>165300</td>\n",
       "      <td>1.19972</td>\n",
       "      <td>0.88824</td>\n",
       "      <td>135.170</td>\n",
       "      <td>152.095</td>\n",
       "      <td>1.35015</td>\n",
       "      <td>112.661</td>\n",
       "    </tr>\n",
       "    <tr>\n",
       "      <th>366598</th>\n",
       "      <td>20171229</td>\n",
       "      <td>165400</td>\n",
       "      <td>1.19985</td>\n",
       "      <td>0.88819</td>\n",
       "      <td>135.175</td>\n",
       "      <td>152.106</td>\n",
       "      <td>1.35035</td>\n",
       "      <td>112.661</td>\n",
       "    </tr>\n",
       "    <tr>\n",
       "      <th>366599</th>\n",
       "      <td>20171229</td>\n",
       "      <td>165500</td>\n",
       "      <td>1.19969</td>\n",
       "      <td>0.88799</td>\n",
       "      <td>135.176</td>\n",
       "      <td>152.140</td>\n",
       "      <td>1.35054</td>\n",
       "      <td>112.675</td>\n",
       "    </tr>\n",
       "  </tbody>\n",
       "</table>\n",
       "<p>366600 rows × 8 columns</p>\n",
       "</div>"
      ],
      "text/plain": [
       "            date    time      e_u      e_g      e_j      g_j      g_u      u_j\n",
       "0       20170102   20100  1.05209  0.85184  122.966  144.240  1.23399  116.875\n",
       "1       20170102   20200  1.05177  0.85183  122.980  144.290  1.23423  116.901\n",
       "2       20170102   20300  1.05188  0.85181  122.986  144.287  1.23413  116.901\n",
       "3       20170102   20400  1.05196  0.85200  123.000  144.287  1.23416  116.900\n",
       "4       20170102   20600  1.05196  0.85197  123.001  144.287  1.23420  116.893\n",
       "...          ...     ...      ...      ...      ...      ...      ...      ...\n",
       "366595  20171229  165100  1.19933  0.88801  135.148  152.110  1.35008  112.680\n",
       "366596  20171229  165200  1.19962  0.88821  135.163  152.095  1.35015  112.668\n",
       "366597  20171229  165300  1.19972  0.88824  135.170  152.095  1.35015  112.661\n",
       "366598  20171229  165400  1.19985  0.88819  135.175  152.106  1.35035  112.661\n",
       "366599  20171229  165500  1.19969  0.88799  135.176  152.140  1.35054  112.675\n",
       "\n",
       "[366600 rows x 8 columns]"
      ]
     },
     "execution_count": 8,
     "metadata": {},
     "output_type": "execute_result"
    }
   ],
   "source": [
    "pd_2017"
   ]
  },
  {
   "cell_type": "code",
   "execution_count": 9,
   "metadata": {},
   "outputs": [],
   "source": [
    "np_2017 = pd_2017.loc[:,'e_u':].to_numpy()\n",
    "np_2018 = pd_2018.loc[:,'e_u':].to_numpy()\n",
    "np_2019 = pd_2019.loc[:,'e_u':].to_numpy()\n",
    "np_2020 = pd_2020.loc[:,'e_u':].to_numpy()"
   ]
  },
  {
   "cell_type": "markdown",
   "metadata": {},
   "source": [
    "# Preparing Y\n",
    "take prace values of EUR/USD (what we try to predict) and for each timestamp create 3 element array representing whether price goes down ([1,0,0]) or up ([0,0,1]) for 'price_jump' or stay the same ([0,1,0]) (withing margin of 'price_jump') for the next 'pred_length' steps.\\\n",
    "argument currency indicate from which currency pair we want to create our target variable 'y'"
   ]
  },
  {
   "cell_type": "code",
   "execution_count": 10,
   "metadata": {},
   "outputs": [],
   "source": [
    "def get_trend(data_numpy, pred_length, price_jump, currency=0):\n",
    "    raw_y = data_numpy[:,currency]\n",
    "    length_y = raw_y.shape[0]\n",
    "    y_trend = []\n",
    "    for i in range(length_y-pred_length):\n",
    "        clear_output(wait=True)\n",
    "        if i % 1000 == 0:\n",
    "            print(i)\n",
    "        j = i + pred_length\n",
    "        tempo = raw_y[i:j]\n",
    "        start = tempo[0]\n",
    "        up = start + price_jump\n",
    "        down = start - price_jump\n",
    "        \n",
    "        up_ind = np.argmax(tempo >= up)\n",
    "        down_ind = np.argmax(tempo <= down)\n",
    "        if up_ind == 0 and down_ind == 0:\n",
    "            trend = [0, 1, 0]\n",
    "        else:\n",
    "            if up_ind == 0:\n",
    "                trend = [1, 0, 0]\n",
    "            elif down_ind == 0:\n",
    "                trend = [0, 0, 1]\n",
    "            else:\n",
    "                if down_ind < up_ind:\n",
    "                    trend = [1, 0, 0]\n",
    "                else:\n",
    "                    trend = [0, 0, 1]\n",
    "        y_trend.append(trend)\n",
    "    return np.asarray(y_trend)"
   ]
  },
  {
   "cell_type": "code",
   "execution_count": 11,
   "metadata": {},
   "outputs": [],
   "source": [
    "pred_length = 20000\n",
    "price_jump = 0.02"
   ]
  },
  {
   "cell_type": "markdown",
   "metadata": {},
   "source": [
    "calculating y and saving it to the file, so in the future we can just load it"
   ]
  },
  {
   "cell_type": "code",
   "execution_count": 12,
   "metadata": {},
   "outputs": [],
   "source": [
    "# calculate y\n",
    "# np_y_2017 = get_trend(np_2017, pred_length, price_jump)\n",
    "# np_y_2018 = get_trend(np_2018, pred_length, price_jump)\n",
    "# np_y_2019 = get_trend(np_2019, pred_length, price_jump)\n",
    "# np_y_2020 = get_trend(np_2020, pred_length, price_jump)\n",
    "\n",
    "# # save y\n",
    "# np.save('y_2017_0', np_y_2017)\n",
    "# np.save('y_2018_0', np_y_2018)\n",
    "# np.save('y_2019_0', np_y_2019)\n",
    "# np.save('y_2020_0', np_y_2020)"
   ]
  },
  {
   "cell_type": "code",
   "execution_count": 13,
   "metadata": {},
   "outputs": [],
   "source": [
    "# load y\n",
    "with open('y_2017_0.npy', 'rb') as f:\n",
    "    np_y_2017 = np.load(f)\n",
    "with open('y_2018_0.npy', 'rb') as f:\n",
    "    np_y_2018 = np.load(f)\n",
    "with open('y_2019_0.npy', 'rb') as f:\n",
    "    np_y_2019 = np.load(f)\n",
    "with open('y_2020_0.npy', 'rb') as f:\n",
    "    np_y_2020 = np.load(f)"
   ]
  },
  {
   "cell_type": "markdown",
   "metadata": {},
   "source": [
    "# Create models"
   ]
  },
  {
   "cell_type": "code",
   "execution_count": 14,
   "metadata": {},
   "outputs": [],
   "source": [
    "import torch\n",
    "import torch.nn as nn"
   ]
  },
  {
   "cell_type": "code",
   "execution_count": 15,
   "metadata": {},
   "outputs": [],
   "source": [
    "cs = StandardScaler()\n",
    "#loss_fn = nn.CrossEntropyLoss()\n",
    "loss_fn = torch.nn.MSELoss()"
   ]
  },
  {
   "cell_type": "markdown",
   "metadata": {},
   "source": [
    "# RNN"
   ]
  },
  {
   "cell_type": "code",
   "execution_count": 16,
   "metadata": {},
   "outputs": [],
   "source": [
    "class my_RNN(nn.Module):\n",
    "    def __init__(self, input_size, hidden_size, num_layers):\n",
    "        super(my_RNN, self).__init__()\n",
    "        \n",
    "        self.hidden_size = hidden_size\n",
    "        self.num_layers = num_layers\n",
    "        \n",
    "        value_size = int(hidden_size / 3)\n",
    "        adv_size = int(hidden_size / 2)\n",
    "        \n",
    "        self.rnn = nn.RNN(input_size, hidden_size, num_layers, nonlinearity='tanh', batch_first=True)\n",
    "        self.h = torch.zeros(num_layers, 1, hidden_size)\n",
    "        \n",
    "        self.fc_value = nn.Linear(hidden_size, value_size)\n",
    "        self.fc_adv = nn.Linear(hidden_size, adv_size)\n",
    "        \n",
    "        self.value = nn.Linear(value_size, 1)\n",
    "        self.adv = nn.Linear(adv_size, 3)\n",
    "        \n",
    "        #self.a_func = nn.Tanh()\n",
    "        self.a_func = nn.Sigmoid()\n",
    "        #self.a_func = nn.LeakyReLU()\n",
    "            \n",
    "    def forward(self, x, h):\n",
    "        #h = torch.zeros(self.num_layers, 1, self.hidden_size)\n",
    "        out, h = self.rnn(x, h)\n",
    "        \n",
    "        value = self.a_func(self.fc_value(out))\n",
    "        adv = self.a_func(self.fc_adv(out))\n",
    "        \n",
    "        value = self.value(value)\n",
    "        adv = self.adv(adv)\n",
    "        adv_average = torch.mean(adv, dim=1, keepdim=True)\n",
    "        output = value + adv - adv_average\n",
    "        return output, h"
   ]
  },
  {
   "cell_type": "code",
   "execution_count": 17,
   "metadata": {},
   "outputs": [],
   "source": [
    "# many to many with square error loss\n",
    "def train_RNN_m_m(model, optimizer, loss_fn, np_data, np_y, params):\n",
    "    epochs, input_size, batch_size, seq_length, pred_length = params\n",
    "    data_size = np_y.shape[0]\n",
    "    data = torch.from_numpy(np_data[:-pred_length,:])\n",
    "    inputs = data.view(batch_size, data_size, input_size)\n",
    "    y = torch.from_numpy(np_y)\n",
    "    # h = model.h\n",
    "    model.train()\n",
    "    for ep in range(epochs):\n",
    "        h = model.h\n",
    "        for i in range(0, data_size, seq_length):\n",
    "            beg = i\n",
    "            en = beg + seq_length\n",
    "            if en > data_size:\n",
    "                en = data_size\n",
    "            output, h = model(inputs[:,beg:en,:].float(), h)\n",
    "            loss = loss_fn(output, y[beg:en,:].unsqueeze(0).float())\n",
    "            clear_output(wait=True)\n",
    "            print('epoch', ep+1)\n",
    "            print('iterations', i)\n",
    "            print('loss', loss.data.item())\n",
    "            optimizer.zero_grad()\n",
    "            h.detach_()\n",
    "            loss.backward()\n",
    "            optimizer.step()"
   ]
  },
  {
   "cell_type": "code",
   "execution_count": 18,
   "metadata": {},
   "outputs": [],
   "source": [
    "# new version\n",
    "def eval_RNN_m_m(model, np_data, np_y, params):\n",
    "    epochs, input_size, batch_size, seq_length, pred_length = params\n",
    "    data_size = np_y.shape[0]\n",
    "    data = torch.from_numpy(np_data[:-pred_length,:])\n",
    "    inputs = data.view(batch_size, data_size, input_size)\n",
    "    y = torch.from_numpy(np_y)\n",
    "    target = torch.argmax(y, dim=1)\n",
    "    \n",
    "    right = 0\n",
    "    wrong = 0\n",
    "    i = 0\n",
    "        \n",
    "    seq_length = 1024\n",
    "    \n",
    "    model.eval()\n",
    "    with torch.no_grad():\n",
    "        h = model.h\n",
    "        for i in range(0, data_size, seq_length):\n",
    "            beg = i\n",
    "            en = beg + seq_length\n",
    "            if en > data_size:\n",
    "                en = data_size\n",
    "            output, h = model(inputs[:,beg:en,:].float(), h)\n",
    "            pred = torch.argmax(output[0,:,:], dim=1)\n",
    "            for j in range(pred.size(0)):\n",
    "                if pred[j] == 1 or target[beg+j] == 1:\n",
    "                    continue\n",
    "                if pred[j] == target[beg+j]:\n",
    "                    right += 1\n",
    "                else:\n",
    "                    wrong += 1\n",
    "\n",
    "            clear_output(wait=True)\n",
    "            print('iterations', i)\n",
    "    \n",
    "    print('right', right)\n",
    "    print('wrong', wrong)"
   ]
  },
  {
   "cell_type": "markdown",
   "metadata": {},
   "source": [
    "many to one RNN"
   ]
  },
  {
   "cell_type": "code",
   "execution_count": 19,
   "metadata": {},
   "outputs": [],
   "source": [
    "# many to one \n",
    "def train_RNN_m_o(model, optimizer, loss_fn, np_data, np_y, params):\n",
    "    epochs, input_size, batch_size, seq_length, pred_length = params\n",
    "    data_size = np_y.shape[0]\n",
    "    data = torch.from_numpy(np_data[:-pred_length,:])\n",
    "    inputs = data.view(batch_size, data_size, input_size)\n",
    "    y = torch.from_numpy(np_y)\n",
    "    \n",
    "    model.train()\n",
    "    for ep in range(epochs):\n",
    "        h = model.h\n",
    "        start = random.randint(0, seq_length)\n",
    "        for i in range(start, data_size-seq_length, seq_length):\n",
    "            beg = i\n",
    "            en = beg + seq_length\n",
    "            output, h = model(inputs[:,beg:en,:].float(), h)\n",
    "            loss = loss_fn(output[:,-1,:], y[en,:].float())\n",
    "            clear_output(wait=True)\n",
    "            print('epoch', ep+1)\n",
    "            print('iterations', i)\n",
    "            print('loss', loss.data.item())\n",
    "            optimizer.zero_grad()\n",
    "            h.detach_()\n",
    "            loss.backward()\n",
    "            optimizer.step()"
   ]
  },
  {
   "cell_type": "code",
   "execution_count": 20,
   "metadata": {},
   "outputs": [],
   "source": [
    "# def eval_RNN_m_o(model, np_data, np_y, params):\n",
    "#     epochs, input_size, batch_size, seq_length, pred_length = params\n",
    "#     data_size = np_y.shape[0]\n",
    "#     data = torch.from_numpy(np_data[:-pred_length,:])\n",
    "#     inputs = data.view(batch_size, data_size, input_size)\n",
    "#     y = torch.from_numpy(np_y)\n",
    "    \n",
    "#     right = 0\n",
    "#     wrong = 0\n",
    "#     target = torch.argmax(y, dim=1)\n",
    "    \n",
    "#     model.eval()\n",
    "#     h = model.h\n",
    "#     for i in range(data_size):\n",
    "#         output, h = model(inputs[:,[i],:].float(), h)\n",
    "#         pred = torch.argmax(output[0,:,:], dim=1)\n",
    "#         if pred == 1 or target[i] == 1:\n",
    "#             continue\n",
    "#         if pred == target[i]:\n",
    "#             right += 1\n",
    "#         else:\n",
    "#             wrong += 1\n",
    "#         if i % 100 == 0:\n",
    "#             clear_output(wait=True)\n",
    "#             print('iterations', i)\n",
    "    \n",
    "#     print('right', right)\n",
    "#     print('wrong', wrong)"
   ]
  },
  {
   "cell_type": "code",
   "execution_count": 21,
   "metadata": {},
   "outputs": [],
   "source": [
    "seq_length = 128\n",
    "\n",
    "input_size = 6\n",
    "hidden_size = 42\n",
    "num_layers = 3\n",
    "\n",
    "learning_rate = 1e-4\n",
    "epochs = 1\n",
    "batch_size = 1\n",
    "params = (epochs, input_size, batch_size, seq_length, pred_length)"
   ]
  },
  {
   "cell_type": "code",
   "execution_count": 29,
   "metadata": {},
   "outputs": [],
   "source": [
    "model = my_RNN(input_size, hidden_size, num_layers)\n",
    "optimizer = torch.optim.Adam(model.parameters(), lr=learning_rate)"
   ]
  },
  {
   "cell_type": "markdown",
   "metadata": {},
   "source": [
    "many to many"
   ]
  },
  {
   "cell_type": "code",
   "execution_count": 23,
   "metadata": {},
   "outputs": [],
   "source": [
    "train_data = cs.fit_transform(np_2017)\n",
    "test_data = cs.transform(np_2018)"
   ]
  },
  {
   "cell_type": "code",
   "execution_count": 30,
   "metadata": {},
   "outputs": [
    {
     "name": "stdout",
     "output_type": "stream",
     "text": [
      "epoch 1\n",
      "iterations 346496\n",
      "loss 0.2222224324941635\n",
      "CPU times: user 2min 34s, sys: 1.99 s, total: 2min 36s\n",
      "Wall time: 2min 2s\n"
     ]
    }
   ],
   "source": [
    "%%time\n",
    "train_RNN_m_m(model, optimizer, loss_fn, train_data, np_y_2017, params)"
   ]
  },
  {
   "cell_type": "code",
   "execution_count": 31,
   "metadata": {},
   "outputs": [
    {
     "name": "stdout",
     "output_type": "stream",
     "text": [
      "iterations 345088\n",
      "right 94966\n",
      "wrong 80628\n"
     ]
    }
   ],
   "source": [
    "eval_RNN_m_m(model, test_data, np_y_2018, params)"
   ]
  },
  {
   "cell_type": "code",
   "execution_count": 24,
   "metadata": {},
   "outputs": [],
   "source": [
    "train_data = cs.fit_transform(np_2018)\n",
    "test_data = cs.transform(np_2019)"
   ]
  },
  {
   "cell_type": "code",
   "execution_count": 25,
   "metadata": {},
   "outputs": [
    {
     "name": "stdout",
     "output_type": "stream",
     "text": [
      "epoch 1\n",
      "iterations 345600\n",
      "loss 0.2222306728363037\n",
      "CPU times: user 3min 2s, sys: 2.01 s, total: 3min 4s\n",
      "Wall time: 2min 32s\n"
     ]
    }
   ],
   "source": [
    "%%time\n",
    "train_RNN_m_m(model, optimizer, loss_fn, train_data, np_y_2018, params)"
   ]
  },
  {
   "cell_type": "code",
   "execution_count": 26,
   "metadata": {},
   "outputs": [
    {
     "name": "stdout",
     "output_type": "stream",
     "text": [
      "iterations 354304\n",
      "right 138612\n",
      "wrong 111615\n"
     ]
    }
   ],
   "source": [
    "eval_RNN_m_m(model, test_data, np_y_2019, params)"
   ]
  },
  {
   "cell_type": "code",
   "execution_count": 27,
   "metadata": {},
   "outputs": [],
   "source": [
    "train_data = cs.fit_transform(np_2019)\n",
    "test_data = cs.transform(np_2020)"
   ]
  },
  {
   "cell_type": "code",
   "execution_count": 28,
   "metadata": {},
   "outputs": [
    {
     "name": "stdout",
     "output_type": "stream",
     "text": [
      "epoch 1\n",
      "iterations 354304\n",
      "loss 0.22223980724811554\n",
      "CPU times: user 3min 6s, sys: 2.1 s, total: 3min 8s\n",
      "Wall time: 2min 35s\n"
     ]
    }
   ],
   "source": [
    "%%time\n",
    "train_RNN_m_m(model, optimizer, loss_fn, train_data, np_y_2019, params)"
   ]
  },
  {
   "cell_type": "code",
   "execution_count": 29,
   "metadata": {},
   "outputs": [
    {
     "name": "stdout",
     "output_type": "stream",
     "text": [
      "iterations 352256\n",
      "right 173447\n",
      "wrong 130161\n"
     ]
    }
   ],
   "source": [
    "eval_RNN_m_m(model, test_data, np_y_2020, params)"
   ]
  },
  {
   "cell_type": "markdown",
   "metadata": {},
   "source": [
    "many to one"
   ]
  },
  {
   "cell_type": "code",
   "execution_count": 30,
   "metadata": {},
   "outputs": [],
   "source": [
    "epochs = 2\n",
    "seq_length = 128\n",
    "params = (epochs, input_size, batch_size, seq_length, pred_length)"
   ]
  },
  {
   "cell_type": "code",
   "execution_count": 31,
   "metadata": {},
   "outputs": [],
   "source": [
    "model = my_RNN(input_size, hidden_size, num_layers)\n",
    "optimizer = torch.optim.Adam(model.parameters(), lr=learning_rate)"
   ]
  },
  {
   "cell_type": "code",
   "execution_count": 32,
   "metadata": {},
   "outputs": [],
   "source": [
    "train_data = cs.fit_transform(np_2017)\n",
    "test_data = cs.transform(np_2018)"
   ]
  },
  {
   "cell_type": "code",
   "execution_count": 33,
   "metadata": {},
   "outputs": [
    {
     "name": "stdout",
     "output_type": "stream",
     "text": [
      "epoch 2\n",
      "iterations 346425\n",
      "loss 0.22244547307491302\n",
      "CPU times: user 6min 14s, sys: 4.36 s, total: 6min 18s\n",
      "Wall time: 5min 13s\n"
     ]
    }
   ],
   "source": [
    "%%time\n",
    "train_RNN_m_o(model, optimizer, loss_fn, train_data, np_y_2017, params)"
   ]
  },
  {
   "cell_type": "code",
   "execution_count": 34,
   "metadata": {},
   "outputs": [
    {
     "name": "stdout",
     "output_type": "stream",
     "text": [
      "iterations 345088\n",
      "right 72185\n",
      "wrong 91795\n"
     ]
    }
   ],
   "source": [
    "eval_RNN_m_m(model, test_data, np_y_2018, params)"
   ]
  },
  {
   "cell_type": "code",
   "execution_count": 35,
   "metadata": {},
   "outputs": [],
   "source": [
    "train_data = cs.fit_transform(np_2018)\n",
    "test_data = cs.transform(np_2019)"
   ]
  },
  {
   "cell_type": "code",
   "execution_count": 36,
   "metadata": {},
   "outputs": [
    {
     "name": "stdout",
     "output_type": "stream",
     "text": [
      "epoch 2\n",
      "iterations 345452\n",
      "loss 0.22213129699230194\n",
      "CPU times: user 5min 58s, sys: 4.26 s, total: 6min 2s\n",
      "Wall time: 4min 58s\n"
     ]
    }
   ],
   "source": [
    "%%time\n",
    "train_RNN_m_o(model, optimizer, loss_fn, train_data, np_y_2018, params)"
   ]
  },
  {
   "cell_type": "code",
   "execution_count": 37,
   "metadata": {},
   "outputs": [
    {
     "name": "stdout",
     "output_type": "stream",
     "text": [
      "iterations 354304\n",
      "right 106753\n",
      "wrong 90078\n"
     ]
    }
   ],
   "source": [
    "eval_RNN_m_m(model, test_data, np_y_2019, params)"
   ]
  },
  {
   "cell_type": "code",
   "execution_count": 38,
   "metadata": {},
   "outputs": [],
   "source": [
    "train_data = cs.fit_transform(np_2019)\n",
    "test_data = cs.transform(np_2020)"
   ]
  },
  {
   "cell_type": "code",
   "execution_count": 39,
   "metadata": {},
   "outputs": [
    {
     "name": "stdout",
     "output_type": "stream",
     "text": [
      "epoch 2\n",
      "iterations 354289\n",
      "loss 0.22223496437072754\n",
      "CPU times: user 4min 58s, sys: 3.4 s, total: 5min 1s\n",
      "Wall time: 3min 53s\n"
     ]
    }
   ],
   "source": [
    "%%time\n",
    "train_RNN_m_o(model, optimizer, loss_fn, train_data, np_y_2019, params)"
   ]
  },
  {
   "cell_type": "code",
   "execution_count": 40,
   "metadata": {},
   "outputs": [
    {
     "name": "stdout",
     "output_type": "stream",
     "text": [
      "iterations 352256\n",
      "right 117130\n",
      "wrong 87774\n"
     ]
    }
   ],
   "source": [
    "eval_RNN_m_m(model, test_data, np_y_2020, params)"
   ]
  },
  {
   "cell_type": "markdown",
   "metadata": {},
   "source": [
    "# LSTM"
   ]
  },
  {
   "cell_type": "code",
   "execution_count": 41,
   "metadata": {},
   "outputs": [],
   "source": [
    "class my_LSTM(nn.Module):\n",
    "    def __init__(self, input_size, hidden_size, num_layers):\n",
    "        super(my_LSTM, self).__init__()\n",
    "        \n",
    "        self.hidden_size = hidden_size\n",
    "        self.num_layers = num_layers\n",
    "        \n",
    "        value_size = int(hidden_size / 3)\n",
    "        adv_size = int(hidden_size / 2)\n",
    "        \n",
    "        self.lstm = nn.LSTM(input_size, hidden_size, num_layers, batch_first=True)\n",
    "        self.h = (torch.zeros(num_layers, 1, hidden_size), \n",
    "                   torch.zeros(num_layers, 1, hidden_size))\n",
    "        \n",
    "        self.fc_value = nn.Linear(hidden_size, value_size)\n",
    "        self.fc_adv = nn.Linear(hidden_size, adv_size)\n",
    "        \n",
    "        self.value = nn.Linear(value_size, 1)\n",
    "        self.adv = nn.Linear(adv_size, 3)\n",
    "        \n",
    "        #self.a_func = nn.Tanh()\n",
    "        self.a_func = nn.Sigmoid()\n",
    "        #self.a_func = nn.LeakyReLU()\n",
    "    \n",
    "    def forward(self, x, h):\n",
    "        out, h = self.lstm(x, h)\n",
    "        \n",
    "        value = self.a_func(self.fc_value(out))\n",
    "        adv = self.a_func(self.fc_adv(out))\n",
    "        \n",
    "        value = self.value(value)\n",
    "        adv = self.adv(adv)\n",
    "        \n",
    "        adv_average = torch.mean(adv, dim=1, keepdim=True)\n",
    "        return value + adv - adv_average, h"
   ]
  },
  {
   "cell_type": "code",
   "execution_count": 42,
   "metadata": {},
   "outputs": [],
   "source": [
    "def train_LSTM(model, optimizer, loss_fn, np_data, np_y, params):\n",
    "    epochs, input_size, batch_size, seq_length, pred_length = params\n",
    "    data_size = np_y.shape[0]\n",
    "    data = torch.from_numpy(np_data[:-pred_length,:])\n",
    "    inputs = data.view(batch_size, data_size, input_size)\n",
    "    y = torch.from_numpy(np_y)\n",
    "    \n",
    "    model.train()\n",
    "    for ep in range(epochs):\n",
    "        h = model.h\n",
    "        for i in range(0, data_size, seq_length):\n",
    "            beg = i\n",
    "            en = beg + seq_length\n",
    "            if en > data_size:\n",
    "                en = data_size\n",
    "            output, h = model(inputs[:,beg:en,:].float(), h)\n",
    "            loss = loss_fn(output, y[beg:en,:].unsqueeze(0).float())\n",
    "            clear_output(wait=True)\n",
    "            print('epoch', ep+1)\n",
    "            print('iterations', i)\n",
    "            print('loss', loss.data.item())\n",
    "            optimizer.zero_grad()\n",
    "            h[0].detach_()\n",
    "            h[1].detach_()\n",
    "            loss.backward()\n",
    "            optimizer.step()"
   ]
  },
  {
   "cell_type": "code",
   "execution_count": 67,
   "metadata": {},
   "outputs": [],
   "source": [
    "seq_length = 128\n",
    "epochs = 1\n",
    "params = (epochs, input_size, batch_size, seq_length, pred_length)"
   ]
  },
  {
   "cell_type": "code",
   "execution_count": 68,
   "metadata": {},
   "outputs": [],
   "source": [
    "lstm_mod = my_LSTM(input_size, hidden_size, num_layers)\n",
    "optimizer = torch.optim.Adam(model.parameters(), lr=learning_rate)"
   ]
  },
  {
   "cell_type": "code",
   "execution_count": 69,
   "metadata": {},
   "outputs": [],
   "source": [
    "train_data = cs.fit_transform(np_2017)\n",
    "test_data = cs.transform(np_2018)"
   ]
  },
  {
   "cell_type": "code",
   "execution_count": 70,
   "metadata": {},
   "outputs": [
    {
     "name": "stdout",
     "output_type": "stream",
     "text": [
      "epoch 1\n",
      "iterations 346496\n",
      "loss 0.28425344824790955\n",
      "CPU times: user 9min 5s, sys: 4.35 s, total: 9min 9s\n",
      "Wall time: 5min 33s\n"
     ]
    }
   ],
   "source": [
    "%%time\n",
    "train_LSTM(lstm_mod, optimizer, loss_fn, train_data, np_y_2017, params)"
   ]
  },
  {
   "cell_type": "code",
   "execution_count": 71,
   "metadata": {},
   "outputs": [
    {
     "name": "stdout",
     "output_type": "stream",
     "text": [
      "iterations 345088\n",
      "right 46714\n",
      "wrong 56448\n"
     ]
    }
   ],
   "source": [
    "eval_RNN_m_m(lstm_mod, test_data, np_y_2018, params)"
   ]
  },
  {
   "cell_type": "code",
   "execution_count": 72,
   "metadata": {},
   "outputs": [],
   "source": [
    "train_data = cs.fit_transform(np_2018)\n",
    "test_data = cs.transform(np_2019)"
   ]
  },
  {
   "cell_type": "code",
   "execution_count": 73,
   "metadata": {},
   "outputs": [
    {
     "name": "stdout",
     "output_type": "stream",
     "text": [
      "epoch 1\n",
      "iterations 345600\n",
      "loss 0.2838633954524994\n",
      "CPU times: user 7min 11s, sys: 3.02 s, total: 7min 14s\n",
      "Wall time: 4min 17s\n"
     ]
    }
   ],
   "source": [
    "%%time\n",
    "train_LSTM(lstm_mod, optimizer, loss_fn, train_data, np_y_2018, params)"
   ]
  },
  {
   "cell_type": "code",
   "execution_count": 74,
   "metadata": {},
   "outputs": [
    {
     "name": "stdout",
     "output_type": "stream",
     "text": [
      "iterations 354304\n",
      "right 19632\n",
      "wrong 11828\n"
     ]
    }
   ],
   "source": [
    "eval_RNN_m_m(model, test_data, np_y_2019, params)"
   ]
  },
  {
   "cell_type": "code",
   "execution_count": 75,
   "metadata": {},
   "outputs": [],
   "source": [
    "train_data = cs.fit_transform(np_2019)\n",
    "test_data = cs.transform(np_2020)"
   ]
  },
  {
   "cell_type": "code",
   "execution_count": 76,
   "metadata": {},
   "outputs": [
    {
     "name": "stdout",
     "output_type": "stream",
     "text": [
      "epoch 1\n",
      "iterations 354304\n",
      "loss 0.2841602861881256\n",
      "CPU times: user 9min 29s, sys: 4.27 s, total: 9min 33s\n",
      "Wall time: 5min 41s\n"
     ]
    }
   ],
   "source": [
    "%%time\n",
    "train_LSTM(lstm_mod, optimizer, loss_fn, train_data, np_y_2019, params)"
   ]
  },
  {
   "cell_type": "code",
   "execution_count": 77,
   "metadata": {},
   "outputs": [
    {
     "name": "stdout",
     "output_type": "stream",
     "text": [
      "iterations 352256\n",
      "right 71427\n",
      "wrong 60266\n"
     ]
    }
   ],
   "source": [
    "eval_RNN_m_m(model, test_data, np_y_2020, params)"
   ]
  },
  {
   "cell_type": "markdown",
   "metadata": {},
   "source": [
    "# GRU"
   ]
  },
  {
   "cell_type": "code",
   "execution_count": 32,
   "metadata": {},
   "outputs": [],
   "source": [
    "class my_GRU(nn.Module):\n",
    "    def __init__(self, input_size, hidden_size, num_layers):\n",
    "        super(my_GRU, self).__init__()\n",
    "        \n",
    "        self.hidden_size = hidden_size\n",
    "        self.num_layers = num_layers\n",
    "        \n",
    "        value_size = int(hidden_size / 3)\n",
    "        adv_size = int(hidden_size / 2)\n",
    "        \n",
    "        self.gru = nn.GRU(input_size, hidden_size, num_layers, batch_first=True)\n",
    "        self.h = torch.zeros(num_layers, 1, hidden_size)\n",
    "        \n",
    "        self.fc_value = nn.Linear(hidden_size, value_size)\n",
    "        self.fc_adv = nn.Linear(hidden_size, adv_size)\n",
    "        \n",
    "        self.value = nn.Linear(value_size, 1)\n",
    "        self.adv = nn.Linear(adv_size, 3)\n",
    "        \n",
    "        #self.a_func = nn.Tanh()\n",
    "        self.a_func = nn.Sigmoid()\n",
    "        #self.a_func = nn.LeakyReLU()\n",
    "    \n",
    "    def forward(self, x, h):\n",
    "        out, h = self.gru(x, h)\n",
    "        \n",
    "        value = self.a_func(self.fc_value(out))\n",
    "        adv = self.a_func(self.fc_adv(out))\n",
    "        \n",
    "        value = self.value(value)\n",
    "        adv = self.adv(adv)\n",
    "        \n",
    "        adv_average = torch.mean(adv, dim=1, keepdim=True)\n",
    "        return value + adv - adv_average, h"
   ]
  },
  {
   "cell_type": "code",
   "execution_count": 33,
   "metadata": {},
   "outputs": [],
   "source": [
    "seq_length = 128\n",
    "params = (epochs, input_size, batch_size, seq_length, pred_length)"
   ]
  },
  {
   "cell_type": "code",
   "execution_count": 34,
   "metadata": {},
   "outputs": [],
   "source": [
    "gru_mod = my_GRU(input_size, hidden_size, num_layers)\n",
    "optimizer = torch.optim.Adam(gru_mod.parameters(), lr=learning_rate)"
   ]
  },
  {
   "cell_type": "code",
   "execution_count": 35,
   "metadata": {},
   "outputs": [],
   "source": [
    "train_data = cs.fit_transform(np_2017)\n",
    "test_data = cs.transform(np_2018)"
   ]
  },
  {
   "cell_type": "code",
   "execution_count": 36,
   "metadata": {},
   "outputs": [
    {
     "name": "stdout",
     "output_type": "stream",
     "text": [
      "epoch 1\n",
      "iterations 346496\n",
      "loss 0.22224076092243195\n",
      "CPU times: user 5min 38s, sys: 1.85 s, total: 5min 40s\n",
      "Wall time: 4min 57s\n"
     ]
    }
   ],
   "source": [
    "%%time\n",
    "train_RNN_m_m(gru_mod, optimizer, loss_fn, train_data, np_y_2017, params)"
   ]
  },
  {
   "cell_type": "code",
   "execution_count": 37,
   "metadata": {},
   "outputs": [
    {
     "name": "stdout",
     "output_type": "stream",
     "text": [
      "iterations 345088\n",
      "right 98108\n",
      "wrong 76725\n"
     ]
    }
   ],
   "source": [
    "eval_RNN_m_m(gru_mod, test_data, np_y_2018, params)"
   ]
  },
  {
   "cell_type": "code",
   "execution_count": 60,
   "metadata": {},
   "outputs": [],
   "source": [
    "train_data = cs.fit_transform(np_2018)\n",
    "test_data = cs.transform(np_2019)"
   ]
  },
  {
   "cell_type": "code",
   "execution_count": 61,
   "metadata": {},
   "outputs": [
    {
     "name": "stdout",
     "output_type": "stream",
     "text": [
      "epoch 1\n",
      "iterations 345600\n",
      "loss 0.22222232818603516\n",
      "CPU times: user 5min 32s, sys: 1.9 s, total: 5min 34s\n",
      "Wall time: 4min 51s\n"
     ]
    }
   ],
   "source": [
    "%%time\n",
    "train_RNN_m_m(gru_mod, optimizer, loss_fn, train_data, np_y_2018, params)"
   ]
  },
  {
   "cell_type": "code",
   "execution_count": 62,
   "metadata": {},
   "outputs": [
    {
     "name": "stdout",
     "output_type": "stream",
     "text": [
      "iterations 354304\n",
      "right 123373\n",
      "wrong 108532\n"
     ]
    }
   ],
   "source": [
    "eval_RNN_m_m(gru_mod, test_data, np_y_2019, params)"
   ]
  },
  {
   "cell_type": "code",
   "execution_count": 63,
   "metadata": {},
   "outputs": [],
   "source": [
    "train_data = cs.fit_transform(np_2019)\n",
    "test_data = cs.transform(np_2020)"
   ]
  },
  {
   "cell_type": "code",
   "execution_count": 64,
   "metadata": {},
   "outputs": [
    {
     "name": "stdout",
     "output_type": "stream",
     "text": [
      "epoch 1\n",
      "iterations 354304\n",
      "loss 0.2222425639629364\n",
      "CPU times: user 6min 31s, sys: 2.15 s, total: 6min 33s\n",
      "Wall time: 5min 46s\n"
     ]
    }
   ],
   "source": [
    "%%time\n",
    "train_RNN_m_m(gru_mod, optimizer, loss_fn, train_data, np_y_2019, params)"
   ]
  },
  {
   "cell_type": "code",
   "execution_count": 65,
   "metadata": {},
   "outputs": [
    {
     "name": "stdout",
     "output_type": "stream",
     "text": [
      "iterations 352256\n",
      "right 144063\n",
      "wrong 117598\n"
     ]
    }
   ],
   "source": [
    "eval_RNN_m_m(gru_mod, test_data, np_y_2020, params)"
   ]
  },
  {
   "cell_type": "markdown",
   "metadata": {},
   "source": [
    "# Modified date feature"
   ]
  },
  {
   "cell_type": "code",
   "execution_count": 17,
   "metadata": {},
   "outputs": [],
   "source": [
    "pred_length = 4096\n",
    "price_jump = 0.02"
   ]
  },
  {
   "cell_type": "code",
   "execution_count": 18,
   "metadata": {},
   "outputs": [
    {
     "name": "stdout",
     "output_type": "stream",
     "text": [
      "362000\n"
     ]
    }
   ],
   "source": [
    "np_y_2017 = get_trend(np_2017, pred_length, price_jump)"
   ]
  },
  {
   "cell_type": "code",
   "execution_count": 19,
   "metadata": {},
   "outputs": [
    {
     "name": "stdout",
     "output_type": "stream",
     "text": [
      "361000\n"
     ]
    }
   ],
   "source": [
    "np_y_2018 = get_trend(np_2018, pred_length, price_jump)"
   ]
  },
  {
   "cell_type": "code",
   "execution_count": null,
   "metadata": {},
   "outputs": [
    {
     "name": "stdout",
     "output_type": "stream",
     "text": [
      "366000\n"
     ]
    }
   ],
   "source": [
    "np_y_2019 = get_trend(np_2019, pred_length, price_jump)"
   ]
  },
  {
   "cell_type": "code",
   "execution_count": null,
   "metadata": {},
   "outputs": [
    {
     "name": "stdout",
     "output_type": "stream",
     "text": [
      "362000\n"
     ]
    }
   ],
   "source": [
    "np_y_2020 = get_trend(np_2020, pred_length, price_jump)"
   ]
  },
  {
   "cell_type": "code",
   "execution_count": 22,
   "metadata": {},
   "outputs": [],
   "source": [
    "def create_date_features(df, data):\n",
    "    date = df['date'].to_numpy()\n",
    "    inds = np.argwhere((date[1:] - date[:-1])>1).flatten()\n",
    "    n = date.shape[0]\n",
    "    features = np.zeros((n, 2))\n",
    "    for ind in inds:\n",
    "        features[ind-128:ind, 0] = 1\n",
    "        features[ind:ind+128, 1] = 1\n",
    "    return np.hstack((data, features))"
   ]
  },
  {
   "cell_type": "code",
   "execution_count": 23,
   "metadata": {},
   "outputs": [],
   "source": [
    "np_date_17 = create_date_features(pd_2017, np_2017)\n",
    "np_date_18 = create_date_features(pd_2018, np_2018)\n",
    "np_date_19 = create_date_features(pd_2019, np_2019)\n",
    "np_date_20 = create_date_features(pd_2020, np_2020)"
   ]
  },
  {
   "cell_type": "code",
   "execution_count": 24,
   "metadata": {},
   "outputs": [],
   "source": [
    "seq_length = 128\n",
    "\n",
    "input_size = 8\n",
    "hidden_size = 42\n",
    "num_layers = 3\n",
    "\n",
    "learning_rate = 1e-4\n",
    "epochs = 1\n",
    "batch_size = 1\n",
    "params = (epochs, input_size, batch_size, seq_length, pred_length)"
   ]
  },
  {
   "cell_type": "code",
   "execution_count": 51,
   "metadata": {},
   "outputs": [],
   "source": [
    "gru_mod = my_GRU(input_size, hidden_size, num_layers)\n",
    "optimizer = torch.optim.Adam(gru_mod.parameters(), lr=learning_rate)"
   ]
  },
  {
   "cell_type": "code",
   "execution_count": 52,
   "metadata": {},
   "outputs": [],
   "source": [
    "train_data = cs.fit_transform(np_date_17)\n",
    "test_data = cs.transform(np_date_18)"
   ]
  },
  {
   "cell_type": "code",
   "execution_count": 53,
   "metadata": {},
   "outputs": [
    {
     "name": "stdout",
     "output_type": "stream",
     "text": [
      "epoch 1\n",
      "iterations 362496\n",
      "loss 0.22222405672073364\n",
      "CPU times: user 5min 56s, sys: 1.72 s, total: 5min 58s\n",
      "Wall time: 5min 12s\n"
     ]
    }
   ],
   "source": [
    "%%time\n",
    "train_RNN_m_m(gru_mod, optimizer, loss_fn, train_data, np_y_2017, params)"
   ]
  },
  {
   "cell_type": "code",
   "execution_count": 54,
   "metadata": {},
   "outputs": [
    {
     "name": "stdout",
     "output_type": "stream",
     "text": [
      "iterations 361472\n",
      "right 8436\n",
      "wrong 6302\n"
     ]
    }
   ],
   "source": [
    "eval_RNN_m_m(gru_mod, test_data, np_y_2018, params)"
   ]
  },
  {
   "cell_type": "code",
   "execution_count": 55,
   "metadata": {},
   "outputs": [],
   "source": [
    "train_data = cs.fit_transform(np_date_18)\n",
    "test_data = cs.transform(np_date_19)"
   ]
  },
  {
   "cell_type": "code",
   "execution_count": 56,
   "metadata": {},
   "outputs": [
    {
     "name": "stdout",
     "output_type": "stream",
     "text": [
      "epoch 1\n",
      "iterations 361472\n",
      "loss 0.22222228348255157\n",
      "CPU times: user 6min 6s, sys: 1.83 s, total: 6min 8s\n",
      "Wall time: 5min 22s\n"
     ]
    }
   ],
   "source": [
    "%%time\n",
    "train_RNN_m_m(gru_mod, optimizer, loss_fn, train_data, np_y_2018, params)"
   ]
  },
  {
   "cell_type": "code",
   "execution_count": 57,
   "metadata": {},
   "outputs": [
    {
     "name": "stdout",
     "output_type": "stream",
     "text": [
      "iterations 369664\n",
      "right 421\n",
      "wrong 90\n"
     ]
    }
   ],
   "source": [
    "eval_RNN_m_m(gru_mod, test_data, np_y_2019, params)"
   ]
  },
  {
   "cell_type": "code",
   "execution_count": 58,
   "metadata": {},
   "outputs": [],
   "source": [
    "train_data = cs.fit_transform(np_date_19)\n",
    "test_data = cs.transform(np_date_20)"
   ]
  },
  {
   "cell_type": "code",
   "execution_count": 59,
   "metadata": {},
   "outputs": [
    {
     "name": "stdout",
     "output_type": "stream",
     "text": [
      "epoch 1\n",
      "iterations 370304\n",
      "loss 0.22222232818603516\n",
      "CPU times: user 6min 44s, sys: 1.92 s, total: 6min 46s\n",
      "Wall time: 5min 58s\n"
     ]
    }
   ],
   "source": [
    "%%time\n",
    "train_RNN_m_m(gru_mod, optimizer, loss_fn, train_data, np_y_2019, params)"
   ]
  },
  {
   "cell_type": "code",
   "execution_count": 60,
   "metadata": {},
   "outputs": [
    {
     "name": "stdout",
     "output_type": "stream",
     "text": [
      "iterations 367616\n",
      "right 11202\n",
      "wrong 9307\n"
     ]
    }
   ],
   "source": [
    "eval_RNN_m_m(gru_mod, test_data, np_y_2020, params)"
   ]
  },
  {
   "cell_type": "code",
   "execution_count": null,
   "metadata": {},
   "outputs": [],
   "source": []
  },
  {
   "cell_type": "code",
   "execution_count": null,
   "metadata": {},
   "outputs": [],
   "source": []
  },
  {
   "cell_type": "code",
   "execution_count": null,
   "metadata": {},
   "outputs": [],
   "source": []
  },
  {
   "cell_type": "code",
   "execution_count": null,
   "metadata": {},
   "outputs": [],
   "source": []
  },
  {
   "cell_type": "code",
   "execution_count": null,
   "metadata": {},
   "outputs": [],
   "source": []
  },
  {
   "cell_type": "markdown",
   "metadata": {},
   "source": [
    "# Works"
   ]
  },
  {
   "cell_type": "code",
   "execution_count": 19,
   "metadata": {},
   "outputs": [
    {
     "data": {
      "image/png": "[encoded data removed]",
      "text/plain": [
       "<Figure size 432x288 with 1 Axes>"
      ]
     },
     "metadata": {
      "needs_background": "light"
     },
     "output_type": "display_data"
    }
   ],
   "source": [
    "plt.plot(np_2017[:,0])\n",
    "plt.show()"
   ]
  },
  {
   "cell_type": "code",
   "execution_count": 20,
   "metadata": {},
   "outputs": [
    {
     "data": {
      "image/png": "[encoded data removed]",
      "text/plain": [
       "<Figure size 432x288 with 1 Axes>"
      ]
     },
     "metadata": {
      "needs_background": "light"
     },
     "output_type": "display_data"
    }
   ],
   "source": [
    "plt.plot(np_2017[:50000,0])\n",
    "plt.show()"
   ]
  },
  {
   "cell_type": "code",
   "execution_count": 11,
   "metadata": {},
   "outputs": [
    {
     "data": {
      "image/png": "[encoded data removed]",
      "text/plain": [
       "<Figure size 432x288 with 1 Axes>"
      ]
     },
     "metadata": {
      "needs_background": "light"
     },
     "output_type": "display_data"
    }
   ],
   "source": [
    "plt.plot(np_2017[:256,0])\n",
    "plt.show()"
   ]
  },
  {
   "cell_type": "code",
   "execution_count": 36,
   "metadata": {},
   "outputs": [
    {
     "data": {
      "image/png": "[encoded data removed]",
      "text/plain": [
       "<Figure size 432x288 with 1 Axes>"
      ]
     },
     "metadata": {
      "needs_background": "light"
     },
     "output_type": "display_data"
    }
   ],
   "source": [
    "plt.plot(np_2018[:,0])\n",
    "plt.show()"
   ]
  },
  {
   "cell_type": "code",
   "execution_count": 35,
   "metadata": {},
   "outputs": [
    {
     "data": {
      "image/png": "[encoded data removed]",
      "text/plain": [
       "<Figure size 432x288 with 1 Axes>"
      ]
     },
     "metadata": {
      "needs_background": "light"
     },
     "output_type": "display_data"
    }
   ],
   "source": [
    "plt.plot(np_2019[:,0])\n",
    "plt.show()"
   ]
  },
  {
   "cell_type": "code",
   "execution_count": 37,
   "metadata": {},
   "outputs": [
    {
     "data": {
      "image/png": "[encoded data removed]",
      "text/plain": [
       "<Figure size 432x288 with 1 Axes>"
      ]
     },
     "metadata": {
      "needs_background": "light"
     },
     "output_type": "display_data"
    }
   ],
   "source": [
    "plt.plot(np_2020[:,0])\n",
    "plt.show()"
   ]
  },
  {
   "cell_type": "markdown",
   "metadata": {},
   "source": [
    "# Save and load model"
   ]
  },
  {
   "cell_type": "code",
   "execution_count": 38,
   "metadata": {},
   "outputs": [],
   "source": [
    "# torch.save(model.state_dict(), 'rnn_dict.pth')\n",
    "# model.load_state_dict(torch.load('rnn_dict.pth'))\n",
    "# torch.save(model, 'rnn_model.pth')\n",
    "# model = torch.load('rnn_model.pth')"
   ]
  },
  {
   "cell_type": "code",
   "execution_count": 31,
   "metadata": {},
   "outputs": [],
   "source": [
    "# epochs, input_size, batch_size, seq_length, pred_length = params\n",
    "# data_size = np_y_2018.shape[0]\n",
    "# data = torch.from_numpy(test_data[:-pred_length,:])\n",
    "# inputs = data.view(batch_size, data_size, input_size)\n",
    "# y = torch.from_numpy(np_y_2018)\n",
    "\n",
    "# model.eval()\n",
    "# h = model.h\n",
    "# predictions = []\n",
    "# cont_flag = True\n",
    "# for i in range(1000):\n",
    "#     output, h = model(inputs[:,[i],:].float(), h)\n",
    "#     predictions.append(output[0,:,:])\n",
    "#     clear_output(wait=True)\n",
    "#     print('iterations', i)"
   ]
  },
  {
   "cell_type": "code",
   "execution_count": 147,
   "metadata": {},
   "outputs": [],
   "source": [
    "# model.train()\n",
    "# for ep in range(epochs):\n",
    "#     h = model.h\n",
    "#     i = 0\n",
    "#     cont_flag = True\n",
    "#     while cont_flag:\n",
    "#         beg = i * seq_length\n",
    "#         en = beg + seq_length\n",
    "#         if en > data_size:\n",
    "#             en = data_size\n",
    "#             cont_flag = False\n",
    "#         output, h = model(inputs[:,beg:en,:].float(), h)\n",
    "#         loss = loss_fn(output, y[beg:en,:].unsqueeze(0).float())\n",
    "#         if i % 10 == 0:\n",
    "#             clear_output(wait=True)\n",
    "#             print(ep)\n",
    "#             print(i)\n",
    "#             print(loss.data.item())\n",
    "#         optimizer.zero_grad()\n",
    "#         h.detach_()\n",
    "#         loss.backward()\n",
    "#         optimizer.step()\n",
    "#         i += 1"
   ]
  },
  {
   "cell_type": "code",
   "execution_count": null,
   "metadata": {},
   "outputs": [],
   "source": []
  }
 ],
 "metadata": {
  "kernelspec": {
   "display_name": "Python 3",
   "language": "python",
   "name": "python3"
  },
  "language_info": {
   "codemirror_mode": {
    "name": "ipython",
    "version": 3
   },
   "file_extension": ".py",
   "mimetype": "text/x-python",
   "name": "python",
   "nbconvert_exporter": "python",
   "pygments_lexer": "ipython3",
   "version": "3.8.5"
  }
 },
 "nbformat": 4,
 "nbformat_minor": 4
}
